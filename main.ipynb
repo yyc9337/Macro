{
 "cells": [
  {
   "cell_type": "code",
   "execution_count": 1,
   "metadata": {},
   "outputs": [],
   "source": [
    "from selenium import webdriver\n",
    "from selenium.webdriver.common.by import By\n"
   ]
  },
  {
   "cell_type": "code",
   "execution_count": 2,
   "metadata": {},
   "outputs": [],
   "source": [
    "class config :\n",
    "    URL = \"https://www.dfmc.kr:8443/course/sports/fmcs/49\"\n",
    "    ID = 'yyc9337'\n",
    "    PW = 'goyu9337!!'\n",
    "    DATE = 20230504  ## 첫번째 주 토요일 날짜\n",
    "    SATURDAY_COUNT = 4 ## 해당 달에 토요일 개수 EX) 토요일 4번, 토요일 5번"
   ]
  },
  {
   "cell_type": "code",
   "execution_count": 3,
   "metadata": {},
   "outputs": [],
   "source": [
    "driver = webdriver.Chrome()\n",
    "driver.get(config.URL)\n",
    "driver.implicitly_wait(2)\n",
    "#driver.find_element(By.XPATH, '//*[@id=\"contents\"]/article/div[1]/form/div/ul[1]/li[4]/div/ul/li[1]').click()"
   ]
  },
  {
   "cell_type": "code",
   "execution_count": 5,
   "metadata": {},
   "outputs": [
    {
     "name": "stdout",
     "output_type": "stream",
     "text": [
      "done\n"
     ]
    }
   ],
   "source": [
    "driver.find_element(By.ID, 'user_id').send_keys(config.ID) # ID\n",
    "driver.find_element(By.ID, 'user_password').send_keys(config.PW) # Password\n",
    "driver.find_element(By.XPATH, '/html/body/div[2]/div[2]/div/section/div/article/div/form/div/div/ul/li/div[1]/span/a').click() ##로그인 버튼\n",
    "driver.find_element(By.XPATH, '/html/body/div[2]/div[2]/button[1]/span').click() \n",
    "\n",
    "for i in range(2) :\n",
    "    driver.find_element(By.XPATH, '/html/body/div[2]/div[1]/header/div/nav/div/div[1]/a').click() ## 사이드바에서 선택\n",
    "    driver.find_element(By.XPATH, '/html/body/div[2]/div[1]/header/div/nav/div/div[4]/ul/li[2]/a').click()## 사이드바에서 선택\n",
    "    driver.find_element(By.XPATH, '/html/body/div[2]/div[1]/header/div/nav/div/div[4]/ul/li[2]/div/ul/li[1]/a').click()\n",
    "    driver.find_element(By.XPATH, '/html/body/div[2]/div[2]/div/section/div/article/div[1]/form/div/ul/li[3]/div/ul/li[3]').click()\n",
    "    if i == 0 :\n",
    "        driver.find_element(By.XPATH, '//*[@id=\"search\"]/div/ul/li[4]/div/*[@id=\"place\"]/li[2]').click()\n",
    "        driver.find_element(By.XPATH, '/html/body/div[2]/div[2]/div/section/div/article/div[5]/ul/li[1]/div[1]/p/span[2]').click() ## 달력 다음달로 넘기기\n",
    "        ## 넘기는거 가끔 오류먹어서 try, except 걸어야함\n",
    "\n",
    "        try :\n",
    "            driver.find_element(By.XPATH, '//*[@id=\"date-' + str(config.DATE) +'\"]/dl').click()\n",
    "        except :\n",
    "            driver.refresh()\n",
    "            driver.find_element(By.XPATH, '/html/body/div[2]/div[2]/div/section/div/article/div[1]/form/div/ul/li[3]/div/ul/li[3]').click()\n",
    "            driver.find_element(By.XPATH, '//*[@id=\"search\"]/div/ul/li[4]/div/*[@id=\"place\"]/li[2]').click()\n",
    "            driver.find_element(By.XPATH, '/html/body/div[2]/div[2]/div/section/div/article/div[5]/ul/li[1]/div[1]/p/span[2]').click()\n",
    "            driver.find_element(By.XPATH, '//*[@id=\"date-' + str(config.DATE) +'\"]/dl').click()\n",
    "        driver.find_element(By.XPATH, '//*[@id=\"reservationList\"]/ul/li[2]/div[2]/table/tbody/tr[4]/td/span').click()\n",
    "        driver.find_element(By.XPATH, '/html/body/div[2]/div[2]/div/section/div/article/div[5]/div/span/a').click()\n",
    "    elif i == 1 :\n",
    "        ## 현재 토요일 로직이고 일요일 로직도 개발해야함\n",
    "        break\n",
    "        # try :\n",
    "        # driver.find_element(By.XPATH, '//*[@id=\"date-' + str(config.DATE+1) +'\"]/dl').click()\n",
    "        # except :\n",
    "        #     driver.refresh()\n",
    "        #     driver.find_element(By.XPATH, '/html/body/div[2]/div[2]/div/section/div/article/div[1]/form/div/ul/li[3]/div/ul/li[3]').click()\n",
    "        #     driver.find_element(By.XPATH, '//*[@id=\"search\"]/div/ul/li[4]/div/*[@id=\"place\"]/li[2]').click()\n",
    "        #     driver.find_element(By.XPATH, '/html/body/div[2]/div[2]/div/section/div/article/div[5]/ul/li[1]/div[1]/p/span[2]').click()\n",
    "        #     driver.find_element(By.XPATH, '//*[@id=\"date-' + str(config.DATE+1) +'\"]/dl').click()\n",
    "    driver.find_element(By.XPATH, '//*[@id=\"reservationList\"]/ul/li[2]/div[2]/table/tbody/tr[4]/td/span').click()\n",
    "    driver.find_element(By.XPATH, '/html/body/div[2]/div[2]/div/section/div/article/div[5]/div/span/a').click()\n",
    "\n",
    "    driver.find_element(By.ID, 'users').send_keys('6') # 인원수\n",
    "    driver.find_element(By.XPATH, '//*[@id=\"contents\"]/article/form/div[10]/span').click()\n",
    "    driver.find_element(By.XPATH, '/html/body/div[2]/div[2]/div/section/div/article/form/div[11]/span[2]/a').click()\n",
    "    ## 1회 예약 완료\n",
    "\n",
    "    for _ in range(config.SATURDAY_COUNT - 1) :\n",
    "        config.DATE = config.DATE + 7 \n",
    "\n",
    "        driver.find_element(By.XPATH, '/html/body/div[2]/div[1]/header/div/nav/div/div[1]/a').click() ## 사이드바에서 선택\n",
    "        driver.find_element(By.XPATH, '/html/body/div[2]/div[1]/header/div/nav/div/div[4]/ul/li[2]/a').click()\n",
    "        driver.find_element(By.XPATH, '/html/body/div[2]/div[1]/header/div/nav/div/div[4]/ul/li[2]/div/ul/li[1]/a').click()\n",
    "\n",
    "        driver.find_element(By.XPATH, '/html/body/div[2]/div[2]/div/section/div/article/div[1]/form/div/ul/li[3]/div/ul/li[3]').click()  ## 시설 - 테니스장\n",
    "        driver.find_element(By.XPATH, '//*[@id=\"search\"]/div/ul/li[4]/div/*[@id=\"place\"]/li[2]').click()  ## 장소 - 2코트\n",
    "        driver.find_element(By.XPATH, '/html/body/div[2]/div[2]/div/section/div/article/div[5]/ul/li[1]/div[1]/p/span[2]').click() ## 달력 다음달로 넘기기\n",
    "\n",
    "        try :\n",
    "            driver.find_element(By.XPATH, '//*[@id=\"date-' + str(config.DATE) +'\"]/dl').click()\n",
    "        except :\n",
    "            driver.refresh()\n",
    "            driver.find_element(By.XPATH, '/html/body/div[2]/div[2]/div/section/div/article/div[1]/form/div/ul/li[3]/div/ul/li[3]').click()\n",
    "            driver.find_element(By.XPATH, '//*[@id=\"search\"]/div/ul/li[4]/div/*[@id=\"place\"]/li[2]').click()\n",
    "            driver.find_element(By.XPATH, '/html/body/div[2]/div[2]/div/section/div/article/div[5]/ul/li[1]/div[1]/p/span[2]').click()\n",
    "            driver.find_element(By.XPATH, '//*[@id=\"date-' + str(config.DATE) +'\"]/dl').click()  ## 날짜 선택\n",
    "\n",
    "        driver.find_element(By.XPATH, '//*[@id=\"reservationList\"]/ul/li[2]/div[2]/table/tbody/tr[4]/td/span').click() ## 4부 선택\n",
    "        driver.find_element(By.XPATH, '/html/body/div[2]/div[2]/div/section/div/article/div[5]/div/span/a').click() ## 대관 신청\n",
    "\n",
    "        driver.find_element(By.ID, 'users').send_keys('6') # 인원수\n",
    "        driver.find_element(By.XPATH, '//*[@id=\"contents\"]/article/form/div[10]/span').click()\n",
    "        driver.find_element(By.XPATH, '/html/body/div[2]/div[2]/div/section/div/article/form/div[11]/span[2]/a').click()\n",
    "\n",
    "    print('done')"
   ]
  }
 ],
 "metadata": {
  "kernelspec": {
   "display_name": "Python 3",
   "language": "python",
   "name": "python3"
  },
  "language_info": {
   "codemirror_mode": {
    "name": "ipython",
    "version": 3
   },
   "file_extension": ".py",
   "mimetype": "text/x-python",
   "name": "python",
   "nbconvert_exporter": "python",
   "pygments_lexer": "ipython3",
   "version": "3.8.13"
  },
  "orig_nbformat": 4
 },
 "nbformat": 4,
 "nbformat_minor": 2
}
