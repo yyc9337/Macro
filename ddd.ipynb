{
 "cells": [
  {
   "cell_type": "code",
   "execution_count": 1,
   "metadata": {},
   "outputs": [],
   "source": [
    "from selenium import webdriver\n",
    "from selenium.webdriver.common.keys import Keys\n",
    "from bs4 import BeautifulSoup\n",
    "import time\n",
    "\n",
    "from selenium.webdriver.common.by import By\n",
    "from selenium.webdriver.support.select import Select\n",
    "import pyautogui # 화면 자동클릭을 위한 라이브러리 사용\n",
    "\n",
    "\n",
    "class config :\n",
    "    URL = \"https://www.dfmc.kr:8443/course/sports/fmcs/49\"\n",
    "    ID = 'yyc9337'\n",
    "    PW = 'goyu9337!!'\n",
    "    DATE = 20230504"
   ]
  },
  {
   "cell_type": "code",
   "execution_count": 2,
   "metadata": {},
   "outputs": [
    {
     "ename": "NameError",
     "evalue": "name 'i' is not defined",
     "output_type": "error",
     "traceback": [
      "\u001b[0;31m---------------------------------------------------------------------------\u001b[0m",
      "\u001b[0;31mNameError\u001b[0m                                 Traceback (most recent call last)",
      "\u001b[1;32m/Users/yuyeongchan/Desktop/Macro/ddd.ipynb Cell 2\u001b[0m in \u001b[0;36m2\n\u001b[1;32m     <a href='vscode-notebook-cell:/Users/yuyeongchan/Desktop/Macro/ddd.ipynb#W0sZmlsZQ%3D%3D?line=25'>26</a>\u001b[0m     driver\u001b[39m.\u001b[39mfind_element(By\u001b[39m.\u001b[39mXPATH, \u001b[39m'\u001b[39m\u001b[39m/html/body/div[2]/div[2]/div/section/div/article/div[5]/ul/li[1]/div[1]/p/span[2]\u001b[39m\u001b[39m'\u001b[39m)\u001b[39m.\u001b[39mclick()\n\u001b[1;32m     <a href='vscode-notebook-cell:/Users/yuyeongchan/Desktop/Macro/ddd.ipynb#W0sZmlsZQ%3D%3D?line=26'>27</a>\u001b[0m     driver\u001b[39m.\u001b[39mfind_element(By\u001b[39m.\u001b[39mXPATH, \u001b[39m'\u001b[39m\u001b[39m//*[@id=\u001b[39m\u001b[39m\"\u001b[39m\u001b[39mdate-\u001b[39m\u001b[39m'\u001b[39m \u001b[39m+\u001b[39m \u001b[39mstr\u001b[39m(config\u001b[39m.\u001b[39mDATE) \u001b[39m+\u001b[39m\u001b[39m'\u001b[39m\u001b[39m\"\u001b[39m\u001b[39m]/dl\u001b[39m\u001b[39m'\u001b[39m)\u001b[39m.\u001b[39mclick()\n\u001b[0;32m---> <a href='vscode-notebook-cell:/Users/yuyeongchan/Desktop/Macro/ddd.ipynb#W0sZmlsZQ%3D%3D?line=28'>29</a>\u001b[0m driver\u001b[39m.\u001b[39mfind_element(By\u001b[39m.\u001b[39mXPATH, \u001b[39m'\u001b[39m\u001b[39m//*[@id=\u001b[39m\u001b[39m\"\u001b[39m\u001b[39mreservationList\u001b[39m\u001b[39m\"\u001b[39m\u001b[39m]/ul/li[2]/div[2]/table/tbody/tr[\u001b[39m\u001b[39m'\u001b[39m \u001b[39m+\u001b[39m \u001b[39mstr\u001b[39m(i) \u001b[39m+\u001b[39m\u001b[39m'\u001b[39m\u001b[39m]/td/span\u001b[39m\u001b[39m'\u001b[39m)\u001b[39m.\u001b[39mclick()\n\u001b[1;32m     <a href='vscode-notebook-cell:/Users/yuyeongchan/Desktop/Macro/ddd.ipynb#W0sZmlsZQ%3D%3D?line=29'>30</a>\u001b[0m driver\u001b[39m.\u001b[39mfind_element(By\u001b[39m.\u001b[39mXPATH, \u001b[39m'\u001b[39m\u001b[39m/html/body/div[2]/div[2]/div/section/div/article/div[5]/div/span/a\u001b[39m\u001b[39m'\u001b[39m)\u001b[39m.\u001b[39mclick()\n\u001b[1;32m     <a href='vscode-notebook-cell:/Users/yuyeongchan/Desktop/Macro/ddd.ipynb#W0sZmlsZQ%3D%3D?line=32'>33</a>\u001b[0m driver\u001b[39m.\u001b[39mfind_element(By\u001b[39m.\u001b[39mID, \u001b[39m'\u001b[39m\u001b[39musers\u001b[39m\u001b[39m'\u001b[39m)\u001b[39m.\u001b[39msend_keys(\u001b[39m'\u001b[39m\u001b[39m3\u001b[39m\u001b[39m'\u001b[39m) \u001b[39m# 인원수\u001b[39;00m\n",
      "\u001b[0;31mNameError\u001b[0m: name 'i' is not defined"
     ]
    }
   ],
   "source": [
    "## 1회 예약 완료\n",
    "\n",
    "driver = webdriver.Chrome()\n",
    "driver.get(config.URL)\n",
    "driver.implicitly_wait(2)\n",
    "\n",
    "\n",
    "driver.find_element(By.ID, 'user_id').send_keys(config.ID) # ID\n",
    "driver.find_element(By.ID, 'user_password').send_keys(config.PW) # Password\n",
    "driver.find_element(By.XPATH, '/html/body/div[2]/div[2]/div/section/div/article/div/form/div/div/ul/li/div[1]/span/a').click() ##로그인 버튼\n",
    "driver.find_element(By.XPATH, '/html/body/div[2]/div[2]/button[1]/span').click() \n",
    "\n",
    "\n",
    "driver.find_element(By.XPATH, '/html/body/div[2]/div[1]/header/div/nav/div/div[1]/a').click() ## 사이드바에서 선택\n",
    "driver.find_element(By.XPATH, '/html/body/div[2]/div[1]/header/div/nav/div/div[4]/ul/li[2]/a').click()## 사이드바에서 선택\n",
    "driver.find_element(By.XPATH, '/html/body/div[2]/div[1]/header/div/nav/div/div[4]/ul/li[2]/div/ul/li[1]/a').click()\n",
    "driver.find_element(By.XPATH, '/html/body/div[2]/div[2]/div/section/div/article/div[1]/form/div/ul/li[3]/div/ul/li[3]').click()\n",
    "driver.find_element(By.XPATH, '//*[@id=\"search\"]/div/ul/li[4]/div/*[@id=\"place\"]/li[2]').click()\n",
    "\n",
    "try :\n",
    "    driver.find_element(By.XPATH, '//*[@id=\"date-' + str(config.DATE) +'\"]/dl').click()\n",
    "except :\n",
    "    driver.refresh()\n",
    "    driver.find_element(By.XPATH, '/html/body/div[2]/div[2]/div/section/div/article/div[1]/form/div/ul/li[3]/div/ul/li[3]').click()\n",
    "    driver.find_element(By.XPATH, '//*[@id=\"search\"]/div/ul/li[4]/div/*[@id=\"place\"]/li[2]').click()\n",
    "    driver.find_element(By.XPATH, '/html/body/div[2]/div[2]/div/section/div/article/div[5]/ul/li[1]/div[1]/p/span[2]').click()\n",
    "    driver.find_element(By.XPATH, '//*[@id=\"date-' + str(config.DATE) +'\"]/dl').click()\n",
    "\n",
    "driver.find_element(By.XPATH, '//*[@id=\"reservationList\"]/ul/li[2]/div[2]/table/tbody/tr[4]/td/span').click()\n",
    "driver.find_element(By.XPATH, '/html/body/div[2]/div[2]/div/section/div/article/div[5]/div/span/a').click()\n",
    "\n",
    "\n",
    "driver.find_element(By.ID, 'users').send_keys('3') # 인원수\n",
    "driver.find_element(By.XPATH, '//*[@id=\"contents\"]/article/form/div[10]/span').click()\n",
    "driver.find_element(By.XPATH, '/html/body/div[2]/div[2]/div/section/div/article/form/div[11]/span[2]/a').click()\n",
    "\n",
    "for j in range(3) :\n",
    "    DATE = config.DATE\n",
    "\n",
    "    if j == 0:\n",
    "        DATE = config.DATE + 7  \n",
    "    elif j == 1:\n",
    "        DATE = config.DATE + 14\n",
    "    else :\n",
    "        DATE = config.DATE + 21\n",
    "    driver.find_element(By.XPATH, '/html/body/div[2]/div[1]/header/div/nav/div/div[1]/a').click() ## 사이드바에서 선택\n",
    "    driver.find_element(By.XPATH, '/html/body/div[2]/div[1]/header/div/nav/div/div[4]/ul/li[2]/a').click()\n",
    "    driver.find_element(By.XPATH, '/html/body/div[2]/div[1]/header/div/nav/div/div[4]/ul/li[2]/div/ul/li[1]/a').click()\n",
    "\n",
    "    driver.find_element(By.XPATH, '/html/body/div[2]/div[2]/div/section/div/article/div[1]/form/div/ul/li[3]/div/ul/li[3]').click()  ## 시설 - 테니스장\n",
    "    driver.find_element(By.XPATH, '//*[@id=\"search\"]/div/ul/li[4]/div/ul/li['+ str(i)+']').click()  ## 장소 - 코트선택\n",
    "    driver.find_element(By.XPATH, '/html/body/div[2]/div[2]/div/section/div/article/div[5]/ul/li[1]/div[1]/p/span[2]').click() ## 달력 다음달로 넘기기\n",
    "\n",
    "    try :\n",
    "        driver.find_element(By.XPATH, '//*[@id=\"date-' + str(DATE) +'\"]/dl').click()\n",
    "    except :\n",
    "        driver.refresh()\n",
    "        driver.find_element(By.XPATH, '/html/body/div[2]/div[2]/div/section/div/article/div[1]/form/div/ul/li[3]/div/ul/li[3]').click()\n",
    "        driver.find_element(By.XPATH, '//*[@id=\"search\"]/div/ul/li[4]/div/*[@id=\"place\"]/li[2]').click()\n",
    "        driver.find_element(By.XPATH, '/html/body/div[2]/div[2]/div/section/div/article/div[5]/ul/li[1]/div[1]/p/span[2]').click()\n",
    "        driver.find_element(By.XPATH, '//*[@id=\"date-' + str(DATE) +'\"]/dl').click()  ## 날짜 선택\n",
    "\n",
    "    driver.find_element(By.XPATH, '//*[@id=\"reservationList\"]/ul/li[2]/div[2]/table/tbody/tr[' + str(i) +']/td/span').click() ## 4부 선택\n",
    "    driver.find_element(By.XPATH, '/html/body/div[2]/div[2]/div/section/div/article/div[5]/div/span/a').click() ## 대관 신청\n",
    "\n",
    "    driver.find_element(By.ID, 'users').send_keys('3') # 인원수\n",
    "    driver.find_element(By.XPATH, '//*[@id=\"contents\"]/article/form/div[10]/span').click()\n",
    "    driver.find_element(By.XPATH, '/html/body/div[2]/div[2]/div/section/div/article/form/div[11]/span[2]/a').click()\n",
    "\n",
    "print('done')"
   ]
  }
 ],
 "metadata": {
  "kernelspec": {
   "display_name": "Python 3",
   "language": "python",
   "name": "python3"
  },
  "language_info": {
   "codemirror_mode": {
    "name": "ipython",
    "version": 3
   },
   "file_extension": ".py",
   "mimetype": "text/x-python",
   "name": "python",
   "nbconvert_exporter": "python",
   "pygments_lexer": "ipython3",
   "version": "3.8.13"
  },
  "orig_nbformat": 4
 },
 "nbformat": 4,
 "nbformat_minor": 2
}
